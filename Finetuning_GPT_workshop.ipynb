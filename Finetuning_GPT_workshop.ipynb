{
  "nbformat": 4,
  "nbformat_minor": 0,
  "metadata": {
    "colab": {
      "provenance": []
    },
    "kernelspec": {
      "name": "python3",
      "display_name": "Python 3"
    },
    "language_info": {
      "name": "python"
    }
  },
  "cells": [
    {
      "cell_type": "code",
      "execution_count": null,
      "metadata": {
        "id": "9K4uzpazlk0G",
        "colab": {
          "base_uri": "https://localhost:8080/"
        },
        "outputId": "451ce144-c0f7-44c6-93b1-79b6995b01b8"
      },
      "outputs": [
        {
          "output_type": "stream",
          "name": "stdout",
          "text": [
            "Requirement already satisfied: torch in /usr/local/lib/python3.10/dist-packages (2.5.0+cu121)\n",
            "Requirement already satisfied: transformers in /usr/local/lib/python3.10/dist-packages (4.44.2)\n",
            "Requirement already satisfied: filelock in /usr/local/lib/python3.10/dist-packages (from torch) (3.16.1)\n",
            "Requirement already satisfied: typing-extensions>=4.8.0 in /usr/local/lib/python3.10/dist-packages (from torch) (4.12.2)\n",
            "Requirement already satisfied: networkx in /usr/local/lib/python3.10/dist-packages (from torch) (3.4.2)\n",
            "Requirement already satisfied: jinja2 in /usr/local/lib/python3.10/dist-packages (from torch) (3.1.4)\n",
            "Requirement already satisfied: fsspec in /usr/local/lib/python3.10/dist-packages (from torch) (2024.10.0)\n",
            "Requirement already satisfied: sympy==1.13.1 in /usr/local/lib/python3.10/dist-packages (from torch) (1.13.1)\n",
            "Requirement already satisfied: mpmath<1.4,>=1.1.0 in /usr/local/lib/python3.10/dist-packages (from sympy==1.13.1->torch) (1.3.0)\n",
            "Requirement already satisfied: huggingface-hub<1.0,>=0.23.2 in /usr/local/lib/python3.10/dist-packages (from transformers) (0.24.7)\n",
            "Requirement already satisfied: numpy>=1.17 in /usr/local/lib/python3.10/dist-packages (from transformers) (1.26.4)\n",
            "Requirement already satisfied: packaging>=20.0 in /usr/local/lib/python3.10/dist-packages (from transformers) (24.1)\n",
            "Requirement already satisfied: pyyaml>=5.1 in /usr/local/lib/python3.10/dist-packages (from transformers) (6.0.2)\n",
            "Requirement already satisfied: regex!=2019.12.17 in /usr/local/lib/python3.10/dist-packages (from transformers) (2024.9.11)\n",
            "Requirement already satisfied: requests in /usr/local/lib/python3.10/dist-packages (from transformers) (2.32.3)\n",
            "Requirement already satisfied: safetensors>=0.4.1 in /usr/local/lib/python3.10/dist-packages (from transformers) (0.4.5)\n",
            "Requirement already satisfied: tokenizers<0.20,>=0.19 in /usr/local/lib/python3.10/dist-packages (from transformers) (0.19.1)\n",
            "Requirement already satisfied: tqdm>=4.27 in /usr/local/lib/python3.10/dist-packages (from transformers) (4.66.6)\n",
            "Requirement already satisfied: MarkupSafe>=2.0 in /usr/local/lib/python3.10/dist-packages (from jinja2->torch) (3.0.2)\n",
            "Requirement already satisfied: charset-normalizer<4,>=2 in /usr/local/lib/python3.10/dist-packages (from requests->transformers) (3.4.0)\n",
            "Requirement already satisfied: idna<4,>=2.5 in /usr/local/lib/python3.10/dist-packages (from requests->transformers) (3.10)\n",
            "Requirement already satisfied: urllib3<3,>=1.21.1 in /usr/local/lib/python3.10/dist-packages (from requests->transformers) (2.2.3)\n",
            "Requirement already satisfied: certifi>=2017.4.17 in /usr/local/lib/python3.10/dist-packages (from requests->transformers) (2024.8.30)\n"
          ]
        }
      ],
      "source": [
        "!pip install torch transformers"
      ]
    },
    {
      "cell_type": "code",
      "source": [
        "from transformers import GPT2Tokenizer\n",
        "\n",
        "tokenizer = GPT2Tokenizer.from_pretrained(\"gpt2\")\n",
        "\n",
        "tokenizer(\"king\")"
      ],
      "metadata": {
        "id": "0NZMg-hCdCQF",
        "colab": {
          "base_uri": "https://localhost:8080/"
        },
        "outputId": "7ad5cc27-6661-448c-fa5d-4ccb66e215ba"
      },
      "execution_count": null,
      "outputs": [
        {
          "output_type": "execute_result",
          "data": {
            "text/plain": [
              "{'input_ids': [3364], 'attention_mask': [1]}"
            ]
          },
          "metadata": {},
          "execution_count": 22
        }
      ]
    },
    {
      "cell_type": "code",
      "source": [
        "tokenizer(\"queen and the king\")"
      ],
      "metadata": {
        "id": "j3no4ozseL8n",
        "colab": {
          "base_uri": "https://localhost:8080/"
        },
        "outputId": "206b4681-e394-4965-830f-f99be18589f2"
      },
      "execution_count": null,
      "outputs": [
        {
          "output_type": "execute_result",
          "data": {
            "text/plain": [
              "{'input_ids': [4188, 268, 290, 262, 5822], 'attention_mask': [1, 1, 1, 1, 1]}"
            ]
          },
          "metadata": {},
          "execution_count": 23
        }
      ]
    },
    {
      "cell_type": "code",
      "source": [
        "from transformers import GPT2LMHeadModel\n",
        "\n",
        "# Generating un-tuned text with our model\n",
        "model = GPT2LMHeadModel.from_pretrained(\"gpt2\")\n",
        "\n",
        "test_generation = model.generate(max_length=120)\n",
        "tokenizer.decode(test_generation[0])"
      ],
      "metadata": {
        "id": "z4DcdtZRiBGs",
        "colab": {
          "base_uri": "https://localhost:8080/",
          "height": 127
        },
        "outputId": "3d5c00ba-31ce-47ef-d751-9baec4b9c57a"
      },
      "execution_count": null,
      "outputs": [
        {
          "output_type": "stream",
          "name": "stderr",
          "text": [
            "The attention mask and the pad token id were not set. As a consequence, you may observe unexpected behavior. Please pass your input's `attention_mask` to obtain reliable results.\n",
            "Setting `pad_token_id` to `eos_token_id`:50256 for open-end generation.\n"
          ]
        },
        {
          "output_type": "execute_result",
          "data": {
            "text/plain": [
              "'<|endoftext|>\\nThe first time I saw the new version of the game, I was so excited. I was so excited to see the new version of the game, I was so excited to see the new version of the game, I was so excited to see the new version of the game, I was so excited to see the new version of the game, I was so excited to see the new version of the game, I was so excited to see the new version of the game, I was so excited to see the new version of the game, I was so excited to see the new version of'"
            ],
            "application/vnd.google.colaboratory.intrinsic+json": {
              "type": "string"
            }
          },
          "metadata": {},
          "execution_count": 24
        }
      ]
    },
    {
      "cell_type": "code",
      "source": [
        "input_sequence = \"On a bright sunny day in the streets of Stockholm\"\n",
        "input_ids = tokenizer.encode(input_sequence, return_tensors='pt')\n",
        "\n",
        "test_generation = model.generate(input_ids, max_length=300)\n",
        "tokenizer.decode(test_generation[0])"
      ],
      "metadata": {
        "id": "IM-D4s2ng9P3",
        "colab": {
          "base_uri": "https://localhost:8080/",
          "height": 181
        },
        "outputId": "33cf40fd-5ad6-4158-80c0-a340c6ceeca6"
      },
      "execution_count": null,
      "outputs": [
        {
          "output_type": "stream",
          "name": "stderr",
          "text": [
            "The attention mask and the pad token id were not set. As a consequence, you may observe unexpected behavior. Please pass your input's `attention_mask` to obtain reliable results.\n",
            "Setting `pad_token_id` to `eos_token_id`:50256 for open-end generation.\n"
          ]
        },
        {
          "output_type": "execute_result",
          "data": {
            "text/plain": [
              "'On a bright sunny day in the streets of Stockholm, a young man named Anders Behring Breivik, who had been living in the city for a year, was shot dead by police.\\n\\nThe man, who had been living in the city for a year, was shot dead by police.\\n\\nThe man, who had been living in the city for a year, was shot dead by police.\\n\\nThe man, who had been living in the city for a year, was shot dead by police.\\n\\nThe man, who had been living in the city for a year, was shot dead by police.\\n\\nThe man, who had been living in the city for a year, was shot dead by police.\\n\\nThe man, who had been living in the city for a year, was shot dead by police.\\n\\nThe man, who had been living in the city for a year, was shot dead by police.\\n\\nThe man, who had been living in the city for a year, was shot dead by police.\\n\\nThe man, who had been living in the city for a year, was shot dead by police.\\n\\nThe man, who had been living in the city for a year, was shot dead by police.\\n\\nThe man, who had been living in the city for a year, was shot dead by police.\\n\\nThe man, who had been living in the city for a year, was shot dead'"
            ],
            "application/vnd.google.colaboratory.intrinsic+json": {
              "type": "string"
            }
          },
          "metadata": {},
          "execution_count": 25
        }
      ]
    },
    {
      "cell_type": "code",
      "source": [
        "input_sequence = \"Alf and Yngvi, | Eikinskjaldi\"\n",
        "input_ids = tokenizer.encode(input_sequence, return_tensors='pt')\n",
        "\n",
        "test_generation = model.generate(input_ids, max_length=120)\n",
        "tokenizer.decode(test_generation[0])"
      ],
      "metadata": {
        "id": "D6BJognlnLJU",
        "colab": {
          "base_uri": "https://localhost:8080/",
          "height": 109
        },
        "outputId": "34eac3fe-66e6-4384-e97f-75d0795f561e"
      },
      "execution_count": null,
      "outputs": [
        {
          "output_type": "stream",
          "name": "stderr",
          "text": [
            "The attention mask and the pad token id were not set. As a consequence, you may observe unexpected behavior. Please pass your input's `attention_mask` to obtain reliable results.\n",
            "Setting `pad_token_id` to `eos_token_id`:50256 for open-end generation.\n"
          ]
        },
        {
          "output_type": "execute_result",
          "data": {
            "text/plain": [
              "'Alf and Yngvi, | Eikinskjaldi, | Eikinskjaldi, | Eikinskjaldi, | Eikinskjaldi, | Eikinskjaldi, | Eikinskjaldi, | Eikinskjaldi, | Eikinskjaldi, | Eikinskjaldi, | Eikinskjaldi, | Eikinskjaldi, | Eikinskjaldi, | Eikinskjaldi, | Eikinskjaldi, | Eikinskjaldi, | Eikinskjaldi, |'"
            ],
            "application/vnd.google.colaboratory.intrinsic+json": {
              "type": "string"
            }
          },
          "metadata": {},
          "execution_count": 26
        }
      ]
    },
    {
      "cell_type": "markdown",
      "source": [
        "# Loading our dataset"
      ],
      "metadata": {
        "id": "yAynHUWJe-pS"
      }
    },
    {
      "cell_type": "code",
      "source": [
        "# Download the file\n",
        "!pip install wget\n",
        "\n",
        "import wget\n",
        "url = 'https://raw.githubusercontent.com/ohshitnotgood/kth-wrkshp/refs/heads/main/data.txt'\n",
        "wget.download(url)"
      ],
      "metadata": {
        "id": "cTjav0KPezhb",
        "colab": {
          "base_uri": "https://localhost:8080/",
          "height": 53
        },
        "outputId": "3d0e9f45-b455-4cf2-8215-c09641106f28"
      },
      "execution_count": null,
      "outputs": [
        {
          "output_type": "stream",
          "name": "stdout",
          "text": [
            "Requirement already satisfied: wget in /usr/local/lib/python3.10/dist-packages (3.2)\n"
          ]
        },
        {
          "output_type": "execute_result",
          "data": {
            "text/plain": [
              "'data.txt'"
            ],
            "application/vnd.google.colaboratory.intrinsic+json": {
              "type": "string"
            }
          },
          "metadata": {},
          "execution_count": 27
        }
      ]
    },
    {
      "cell_type": "code",
      "source": [
        "# Open the file\n",
        "data = open(\"./data.txt\").read()\n",
        "print(len(data))"
      ],
      "metadata": {
        "id": "PaKUASpWfnqP",
        "colab": {
          "base_uri": "https://localhost:8080/"
        },
        "outputId": "01266f33-26c2-4ccc-b283-2a75ac387fd4"
      },
      "execution_count": null,
      "outputs": [
        {
          "output_type": "stream",
          "name": "stdout",
          "text": [
            "16339\n"
          ]
        }
      ]
    },
    {
      "cell_type": "markdown",
      "source": [
        "# Build our dataset and dataloader"
      ],
      "metadata": {
        "id": "jRMSlv8IiF9H"
      }
    },
    {
      "cell_type": "code",
      "source": [
        "# first, we tokenize the entire dataset\n",
        "tokenized_text = tokenizer.encode(data, return_tensors=\"pt\")"
      ],
      "metadata": {
        "id": "67wgGCySiTCL",
        "colab": {
          "base_uri": "https://localhost:8080/"
        },
        "outputId": "65d31f66-f449-4447-a852-9978bd7b83ff"
      },
      "execution_count": null,
      "outputs": [
        {
          "output_type": "stream",
          "name": "stderr",
          "text": [
            "Token indices sequence length is longer than the specified maximum sequence length for this model (4914 > 1024). Running this sequence through the model will result in indexing errors\n"
          ]
        }
      ]
    },
    {
      "cell_type": "markdown",
      "source": [
        "Then, we want to split our data into \"chunks\". We will feed each of these chunks into our model during finetuning.\n",
        "\n",
        "We want to feed in a chunk, calculate the loss, backwards propagate, feed in another chunk, backwards propagate, feed in another chunk and so on and so forth."
      ],
      "metadata": {
        "id": "9HY8QRp9igz7"
      }
    },
    {
      "cell_type": "code",
      "source": [
        "examples = []\n",
        "block_size = 128\n",
        "for i in range(0, tokenized_text.size(1) - block_size + 1, block_size):\n",
        "  examples.append(tokenized_text[:, i:i + block_size])\n",
        "\n",
        "examples"
      ],
      "metadata": {
        "id": "zcGZlIoGjRxW",
        "colab": {
          "base_uri": "https://localhost:8080/"
        },
        "outputId": "39bd6b68-17fa-4f75-b743-79b69467f2e4"
      },
      "execution_count": null,
      "outputs": [
        {
          "output_type": "execute_result",
          "data": {
            "text/plain": [
              "[tensor([[   39,  6648,   314,  1265,   930,   422,   262, 11386,  9558,    11,\n",
              "            198,  4863,   679,   320,    67,   439,   338, 11989,    11,   930,\n",
              "           1111,  1029,   290,  1877,    26,   198,   817,   280,   266,  2326,\n",
              "             11,   569,  1604,  1032,    11,   930,   326,   880,   314, 15124,\n",
              "            198, 19620, 19490,   314,  3505,   930,   286,  1450,   890,  2084,\n",
              "             13,   198,   198,    40,  3505,  1865,   930,   262, 20178,   286,\n",
              "            331,   382,    11,   198,  8241,  2921,   502,  8509,   930,   287,\n",
              "            262,  1528,  3750,   416,    26,   198, 37603, 11621,   314,  2993,\n",
              "             11,   930,   262,  5193,   287,   262,  5509,   198,  3152, 18680,\n",
              "          11135,   930, 11061,   262, 15936,    13,   198,   198,  5189,  1468,\n",
              "            373,   262,  2479,   930,   618,   575, 10793,  5615,    26,   198,\n",
              "          37567,  4249,  3608,  9813,   930,  4249,  6450,   612,   547,    26,\n",
              "            198, 22840,   550,   407,   587,    11,   930,  4249]]),\n",
              " tensor([[ 9538,  2029,    11,   198,  1537,   257, 40908,   278,  7625,    11,\n",
              "            930,   290,  8701, 12062,    13,   198,   198,  6423,  5481,   338,\n",
              "          11989, 13663,   930,   262,  1241,  1956,    11,   198,    44,   342,\n",
              "           4563,   400,   262, 18680,   930,   612,   484,   925,    26,   198,\n",
              "            464,  4252,   422,   262,  5366,   930, 38794,   262, 14966,   286,\n",
              "           4534,    11,   198,  1870,  4077,   373,   262,  2323,   930,   351,\n",
              "           3957,   443,  2573,    13,   198,   198,   464,  4252,    11,   262,\n",
              "           6621,   930,   286,   262,  8824,    11,   422,   262,  5366,   198,\n",
              "           9360,   826,  1021,  3350,   930,   625,  9538,   338, 20254,    26,\n",
              "            198,  2949,  3725,   673,   550,   930,   810,   607,  1363,   815,\n",
              "            307,    11,   198,   464,  8824,  2993,   407,   930,   644,  1244,\n",
              "            373,   465,    11,   198,   464,  5788,  2993,   407,   930,   810,\n",
              "            511,  8985,   547,    13,   198,   198,  6423,  7194]]),\n",
              " tensor([[  262, 11858,   930,   511, 10474,    12,   325,  1381,    11,   198,\n",
              "            464, 11386,  3392,    11,   930,   290,  6745,  2714,    26,   198,\n",
              "          36690,   788,  2921,   484,   930,   284, 19613,   290, 45493,    11,\n",
              "            198, 42997,   484,  3706,    11,   930,   290,   262, 50073,  8824,\n",
              "             11,   198, 24732,   290,  6180,    11,   930,   262,   812,   284,\n",
              "           1271,    13,   198,   198,  2953,   314,   400,   615,   692,  1138,\n",
              "            930,   262, 18680, 11858,    11,   198,  2484,    81,  1127,   290,\n",
              "          27081,   930,   484,  4628,  9451,  1029,    26,   198,  1890,  3212,\n",
              "            484,   900,    11,   290,   930,   484,   895,   342,   798, 23751,\n",
              "             11,   198,    51, 28079,   484, 38733,    11,   930,   290,  4899,\n",
              "            484, 35458,    13,   198,   198,   818,   511, 50078,   379,  4167,\n",
              "            930,   484,  2826,   379,  8893,    11,   198,  5189,  3869,   645,\n",
              "           3092,   930,   750,   262, 11858,   788,   760,    11]]),\n",
              " tensor([[  438,   198,    51,   359,   294,  1555,  1625,   930,   510,  6175,\n",
              "             12, 23151,    82,  1115,    11,   198,    39,  2217,   286,  1244,\n",
              "             11,   930,   503,   286,   449,   313,   403,  9096,    13,   198,\n",
              "            198,  6423,  7194,   262, 11858,   930,   511, 10474,    12,   325,\n",
              "           1381,    11,   198,   464, 11386,  3392,    11,   930,   290,  6745,\n",
              "           2714,    11,   198,  2514,  1064,   508,   815,  5298,   930,   262,\n",
              "           3234,   286, 15594,  9501,   198,  7975,   286,  1709, 13057,   338,\n",
              "           2910,   930,   290,   262,  7405,   286,  1086,   391,    13,   198,\n",
              "            198,  1858,   373,   337,  1747,  2360,   343,   930,   262,  1244,\n",
              "           6386,   925,   198,  5189,   477,   262, 15594,  9501,    11,   930,\n",
              "            290, 11164,   259,  1306,    26,   198,  7085,   257, 35674,   930,\n",
              "            286,  1450,   484,   925,    11,   198,   464, 15594,  9501,   287,\n",
              "            262,  4534,    11,   930,   355, 11164,   259,   531]]),\n",
              " tensor([[   13,   198,   198,    45, 48111,   290,   399,   342,    72,    11,\n",
              "            930,  2258,   380,   290,   311,  1071,   380,    11,   198, 15160,\n",
              "            380,   290, 39034,   380,    11,   930,   978,   400,    73,  1659,\n",
              "             11,   360,  2100,   259,    11,   198, 40059,   290,   399,   391,\n",
              "             11,   930,   399, 34690,    11,   360,   391,    11,   198,    33,\n",
              "            361,   333,    11,   347,  1659,   333,    11,   930, 14476,   333,\n",
              "             11,  5414,    72,    11,   198,  2025,   290,  1550,   283,    11,\n",
              "            930, 38230,    11,   337,    73,   849,    85,   270, 32986,    13,\n",
              "            198,   198,    53,  6950,   290, 17727,  1604,     8,   930,   569,\n",
              "            521,  1604,    11,   536,  3201,    11,   198,   464, 28747,   290,\n",
              "          13002,   259,    11,   930,   536,  1472,    11, 18271,   290, 25659,\n",
              "             11,   198,    45,  2417,   290,   399,  2417,   776,    11,   438,\n",
              "            930,   783,   423,   314,  1297,   438,   198,  8081]]),\n",
              " tensor([[  259,   290, 26494, 21370,   342,   438,   930,   262,  1351,   610,\n",
              "            432,    13,   198,   198,    37,  2403,    11,   509,  2403,    11,\n",
              "            930,  7557,   259,    11,   399,  7344,    11,   198,  1544,   457,\n",
              "            361,  2403,    11,   930, 14353,   283,    11,   311,  8903,   333,\n",
              "             11,   198,  6732,   283,    11, 13549,  2865,    72,    11,   930,\n",
              "           1305, 21241,    70,   290,   406, 14651,    11,   198,    32,   333,\n",
              "             85,   648,    11,   449,  2743,    11,   930,   412,  1134, 35803,\n",
              "             73, 37566,    13,   198,   198,   464,  3234,   286,   262, 15594,\n",
              "           9501,   930,   287,   360,  2100,   259,   338,  5636,   506,   198,\n",
              "           8048,   284,   406,  1659,   283,   930,   262,  1351,  1276,   314,\n",
              "           1560,    26,   198,   464, 12586,   484,  1364,    11,   930,   290,\n",
              "            832,  9583,  8604,   198,  2990,  7194,   257,  1363,   930,   287,\n",
              "            262,  7032,   286,  6450,    13,   198,   198,  1858]]),\n",
              " tensor([[  547, 12458,   929, 32986,   930,   290, 25143,    70,   400,  8847,\n",
              "            343,    11,   198, 27991,    11,   367,  7493,    82,  1819,    72,\n",
              "             11,   930,   367,  2768,   648,    11,  2671, 36743,    11,   198,\n",
              "             35, 10145,    11, 17954,    11,   930,   360,  3046,    11,   843,\n",
              "          25641,    11,   198, 15739,   343,    69,   343,    11, 16310,    69,\n",
              "            343,    11,   930,  3661,  1878,   342,    11, 38230,    13,   198,\n",
              "            198,    32,  1652,   290,   575,   782,  8903,    11,   930,   412,\n",
              "           1134, 35803,    73, 37566,    11,   198,    37,    73,   282,   283,\n",
              "            290, 15122,    72,    11,   930,   376,   342,   290,   402,  3732,\n",
              "            283,    26,   198,  2396,   329,   477,   640,   930,  2236,   262,\n",
              "          12838,   307,  1900,    11,   198,   464,  1351,   286,   477,   930,\n",
              "            262, 11747,  4127,   286,   406,  1659,   283,    13,   198,   198,\n",
              "           6423,   422,   262,  5636,   506,   930,   750,  1115]]),\n",
              " tensor([[ 1282,  6071,    11,   198,  4863,   262,  1363,   286,   262, 11858,\n",
              "             11,   930,   262, 18680,   290, 43210,    26,   198,  7571,  1231,\n",
              "          10030,   930,   319,   262,  1956,   484,  1043,    11,   198, 25214,\n",
              "            290, 13302,  5031,    11,   930,  6565,   286,  1244,    13,   198,\n",
              "            198, 36315,   484,   550,   407,    11,   930,  2565,   484,   550,\n",
              "            407,    11,   198, 39596,  4249,  6268,    11,   930,  4249,   922,\n",
              "            306, 37409,    26,   198, 36315,  2921,   440, 40871,    11,   930,\n",
              "           2565,  2921,   367,  9101, 32986,    11,   198, 39596,  2921,   406,\n",
              "            849,   333,   930,   290,   922,   306, 37409,    13,   198,   198,\n",
              "           2025, 12530,   314,   760,    11,   930,   575,  1130,  7109,   292,\n",
              "            346,   663,  1438,    11,   198,  3152,  1660,  2330,   930,   318,\n",
              "            262,  1049,  5509,  9583,    26,   198,   464,  1198,  1282,   262,\n",
              "            390, 18504,   930,   326,  2121,   287,   262,   288]]),\n",
              " tensor([[ 2040,    11,   198, 13719,   416,  8799,   400,   338,   880,   930,\n",
              "            857,   340,  1683,  1663,    13,   198,   198,   464,  1198,  1282,\n",
              "            262, 25920,   641,   930, 18680,   287, 11501,    11,   198, 12510,\n",
              "            422,   262, 26765,   930,   866,   705, 13725,   262,  5509,    26,\n",
              "            198, 16692,   400,   318,   530,  3706,    11,   930,  4643,   400,\n",
              "          26800,   262,  1306,    11,   438,   198,  2202,   262,  4898,   484,\n",
              "           7781,    11,   438,   930,   290,  3661, 32926,   262,  2368,    13,\n",
              "            198,    43,  8356,   484,   925,   612,    11,   290,  1204, 44554,\n",
              "            198,  2514,   262, 11989,   286,  1450,    11,   290,   900,   511,\n",
              "            277,   689,    13,   198,   198,   464,  1175,   314,  3505,    11,\n",
              "            930,   262,   717,   287,   262,   995,    11,   198,  2215,   262,\n",
              "          11858,   351, 46842,   930,   550,   895,  2621,   402,   692,   303,\n",
              "            328,    11,   198,  1870,   287,   262,  6899,   930]]),\n",
              " tensor([[  286,  6075,   550, 11544,   607,    11,   198, 12510,  1661, 11544,\n",
              "             11,   930,   290,  1115,  1661,  4642,    11,   198,    46,   701,\n",
              "            290,   757,    11,   930,  1865,  1683,   673,  3160,    13,   198,\n",
              "            198,  1544,   342,   484,  3706,   607,   930,   508,  7194,   511,\n",
              "           1363,    11,   198,   464,  3094,    12, 42041, 16365,    11,   930,\n",
              "            287,  5536, 10787,    26,   198, 28478,    82,   673,   307,    86,\n",
              "          10981,   930,   326,   547,  3888,   416,   607,  5536,    11,   198,\n",
              "           2514,  6181,  1466,   930,   257,  8716,   673,   373,    13,   198,\n",
              "            198,  2202,   262,  2583,   465, 17514,   930,   750,   440, 40871,\n",
              "            289,  6371,    11,   198,  6423,   287,   262,   995,   930,   750,\n",
              "           1175,   717,  1282,    26,   198,   464,  3355,   326,   308,  1447,\n",
              "            992,   930,   262, 11858,   373,  5445,    11,   198,  1870,   262,\n",
              "           2214,   416,   262,  1175,  2339,   930,   370,  7305]]),\n",
              " tensor([[  373,  4161,  4742,    13,   198,   198,  6423,  7194,   262, 11858,\n",
              "            930,   511, 10474,    12,   325,  1381,    11,   198,   464, 11386,\n",
              "           3392,    11,   930,   290,  6745,  2714,    11,   198, 15354,   262,\n",
              "          11858,   930,   815, 17547,  1577,    11,   198,  5574,   284,   477,\n",
              "          12936,   930,   815, 11892,  5594,    13,   198,   198,  6423,  7194,\n",
              "            262, 11858,   930,   511, 10474,    12,   325,  1381,    11,   198,\n",
              "            464, 11386,  3392,    11,   930,   290,  6745,  2714,    11,   198,\n",
              "           2514,  1064,   508,   351, 30318,   930,   262,  1633,   550,  5901,\n",
              "             11,   198,  5574,   550,  1813,   440,   400,   338, 26619,   930,\n",
              "            284,   262, 20178,     6, 50167,    13,   198,   198,   818, 29844,\n",
              "          14404,   930,   788,  8278,   510, 13002,    11,   438,   198,  4653,\n",
              "          23826,   339, 10718,   930,   618,   339,   884,  1243, 23180,    11,\n",
              "            438,   198,  1870,   262, 17865,    82,   547,  5445]]),\n",
              " tensor([[   11,   930,   262,  2456,   290, 13100,    11,   198,   464, 18680,\n",
              "          31241,   930,  1022,   606,   925,    13,   198,   198,    40,   760,\n",
              "            286,   262, 12718,   930,   286,   679,   320,    67,   439,    11,\n",
              "           7104,   198,  9203,   262,  1029,    12, 30771,   930, 11386,  5509,\n",
              "             26,   198,  2202,   340,   612,   279,  4662,   930,   422,   569,\n",
              "           1604,  1032,   338, 13995,   198,    32, 18680,  4269,    25,   930,\n",
              "            561,   345,   760,  1865,   517,    30,   198,   198,  2348,   505,\n",
              "            314,  3332,   930,   618,   262,  5706,  1881,  7194,   502,    11,\n",
              "            198,   464,  3246,   286, 11858,    11,   930,   290, 50255,   287,\n",
              "           6164,  2951,    25,   198,     1,  2061, 19338, 14210,   284,  1265,\n",
              "             30,   930,  1521,   401,   395, 14210, 37706,    30,   198,    46,\n",
              "          40871,    11,   314,   760,   930,   810,   294,   500,  4151,   318,\n",
              "           7104,   526,   198,    40,   760,   810,   440, 40871]]),\n",
              " tensor([[  338,   930,  4151,   318,  7104,    11,   198, 29744,   287,   262,\n",
              "           3094,    12,    69,  2434,   930,   880,   286,   337, 13057,    26,\n",
              "            198,    44,  1329,   422,   262, 13995,   930,   286,   440, 40871,\n",
              "           1123,  1995,   198, 13921,   337, 13057,  4144,    25,   930,   561,\n",
              "            345,   760,  1865,   517,    30,   198,   198,  8199,   694,    75,\n",
              "           2114,   550,   314,   930,   290, 13917,   422,   679,   263, 11358,\n",
              "             11,   198,    54,   786,   373,   616,  4046,   930,   290,   616,\n",
              "           5536, 11501,    26,   198, 42559,   306,   314,  2497,   930,   625,\n",
              "            477,   262, 11621,    13,   198,   198,  2202,   477,  5389,  2497,\n",
              "            314,   930,   569, 18354,  1678, 25432,    11,   198, 35474,   284,\n",
              "           6594,   930,   284,   262,  9803,   286,   262, 11858,    26,   198,\n",
              "          15739, 32926, 18631,   262,  7614,    11,   930,   290,  3661,   519,\n",
              "            377, 22075,  1306,    11,   198,    38,  1071,    11]]),\n",
              " tensor([[  367,   688,    11,   402,   623,   377,    11,   930,   290,  2269,\n",
              "            343,  8135,   519,   377,    13,   198,  5189,  2332, 13881,   338,\n",
              "          25920,   641,   930,   262,  1351,   423,  9838,  2982,    11,   198,\n",
              "             53, 18354,  1678,  3492,   930,   284,  6594,   267,     6,   263,\n",
              "            262,  4534,    13,   198,   198,    40,  2497,   329, 17048,    81,\n",
              "             11,   930,   262, 16832,  5770,    11,   198,   464,  3367,   286,\n",
              "            440, 40871,    11,   930,   465, 22701,   900,    25,   198,    37,\n",
              "          10877,   290,  3148,   930,   287,   262, 37248,  7032,    11,   198,\n",
              "          13295,  7334,   287,  4202,   930,   262,  4020,   293, 44579,  6204,\n",
              "             13,   198,   198,  4863,   262,  8478,   543,  3947,   930,   523,\n",
              "          36808,   290,  3148,   198,    34,   480,   257, 13568, 18619,   930,\n",
              "            326,   367,   849,   815,   289,  6371,    26,   198,  1537,   262,\n",
              "           3956,   286, 17048,    81,   930,   373,  4642,   304]]),\n",
              " tensor([[  260,   890,    11,   198,  1870,   530,  1755,  1468,   930,  8350,\n",
              "            440, 40871,   338,  3367,    13,   198,   198,  6653,  2832,   339,\n",
              "          18989,   407,    11,   930,   465,  4190,   339,  1974,   276,   407,\n",
              "             11,   198,    51,   359,   339, 18631,   284,   262,   275,  1000,\n",
              "             12,  2436,  6201,   930, 17048,    81,   338, 22156,    13,   198,\n",
              "           1537,   287,   376,   641,   282,   343,   930,   750,  1305,  6950,\n",
              "          49671, 19597,   198,  1890,  3254, 18323,   338,   761,    25,   930,\n",
              "            561,   345,   760,  1865,   517,    30,   198,   198,  6423,   750,\n",
              "            569,  6557,  4528, 17968, 13100, 14528,    25,   198,  9727,  1290,\n",
              "            813, 18288,   547,   883, 11351,  1010,   286, 31875,    13,   198,\n",
              "            198,  3198,   750,   314,   766,   930,   287,   262,  9583, 16479,\n",
              "           5421,    11,   198,    32, 18854,   286,  2801,    11,   930,   290,\n",
              "            284, 31771,   588,    26,   198,  3886,   465,  1735]]),\n",
              " tensor([[  857, 21984,  2047,   930,  1650,    11,  4249,   318,  9675,   198,\n",
              "           2514,   766,   607, 16133,    25,   930,   561,   345,   760,  1865,\n",
              "            517,    30,   198,   198,  4863,   262,  7627,   612,   279,  4662,\n",
              "            930,   832, 29419,  1188,   274,   198,  3152, 19735,   290, 48924,\n",
              "           5355,   930,   262,  7850,  3454,   342,    13,   198,   198, 14157,\n",
              "            904,   257,  6899,   930,   287,   399,   342,  1015,   297,   343,\n",
              "            198,  5189,  3869,   612,  8278,   930,   329, 44830,   380,   338,\n",
              "           3234,    26,   198,  1870,   287,  6762, 10875,   343,   930,  1194,\n",
              "           6204,    11,   198,  8496,   262,  6175,  1709, 13057,   930,   465,\n",
              "           6099,    12, 18323,   550,    13,   198,   198,    32,  6899,   314,\n",
              "           2497,    11,   930,  1290,   422,   262,  4252,    11,   198,  2202,\n",
              "            399,   459,    81,   623,   340,  6296,    11,   930,   290,   262,\n",
              "           8215,  1986,  5093,    11,   198, 37522,   296, 10532]]),\n",
              " tensor([[  930,   832,   262,  7523,    12,  1151,   866,    11,   198,  1890,\n",
              "           1088,   262,  7714,   930,   466,  1055,    79,   658,  2344,    13,\n",
              "            198,   198,    40,  2497,   612,   266,  4980,   930,   832, 18180,\n",
              "           4295,   198, 31055,  3493,   516,  1450,   930,   290, 38313,  1165,\n",
              "             11,   198,  1870,  3259,   286,  2801,   930,   351,   262, 17743,\n",
              "            286,  1450,    26,   198,  1858,   399,   342,    71, 10332, 25669,\n",
              "            930,   262,  2910,   286,   262, 27029,    11,   198,  1870,   262,\n",
              "          17481, 26197,  1450,    26,   930,   561,   345,   760,  1865,   517,\n",
              "             30,   198,   198,   464,  6175,   408,  1468,   930,   287,  7931,\n",
              "           3822,  3332,    11,   198,   818,   262,  7627,    11,   290, 18631,\n",
              "            930,   262, 50167,   286, 39394,    26,   198, 14311,   777,   530,\n",
              "            930,   287,  9234,   338, 34731,   198, 16973,  2582,   284,  8711,\n",
              "            930,   262,  4252,   422,   262,  6766,    13,   198]]),\n",
              " tensor([[  818, 10574, 24350,   930,   810, 32326,   389, 23470,    11,   198,\n",
              "           3886, 40158,   287,  7815,   930,   511,  3891, 17232,    11,   198,\n",
              "          11484,  2412,  7104,   930,   287, 16187,  2769,    11,   198,  5189,\n",
              "          35423,  1752,  2626,   930,   287, 13079,  3993,    13,   198,   198,\n",
              "            464, 24350,   286, 33414,   747,   930, 26852,   321,   351,  3869,\n",
              "             11,   198,    49,   291,   956,   286,  4534,   930,   290, 29561,\n",
              "           1468,    26,   198,    38,  5232,   286,  2046,   930,   290,  8465,\n",
              "           6016,    11,   198,  1890,  2004,   287, 11854,    11,   930,  1290,\n",
              "            422,  1657,    13,   198,   198,  4863, 21593,  6439,   930,  4485,\n",
              "          20178, 18288,    11,   198,  3152, 21682,   290,  7815,   930,   319,\n",
              "            790, 25035,    26,   198,   464, 12269, 13279,   930,   379,  1123,\n",
              "          15157,  2239,    11,   198,   818,   449,   313,   403,  9096,   930,\n",
              "            511, 13141,  4030,    13,   198,   198, 24102,   262]]),\n",
              " tensor([[  285,  1023,   930,   810, 49008, 28583,    11,   198,  9527,  1158,\n",
              "           3148,   290, 10787,   930,  1745,  7104, 20009,    26,   198,   818,\n",
              "          17136,  9096,   447,   247,    82, 16479,   930,   484,  9280,   416,\n",
              "           1755,    11,   198, 14574, 20263,  2705,   930,   588,  3329,  1657,\n",
              "             13,   198,   198,   464,   317,   274,   343,  6431,   930,   416,\n",
              "           3329,   338, 42772,    11,   198,   818, 41008,   447,   247,    82,\n",
              "          24350,   930,   351, 19758,   447,   247,    82, 17841,    26,   198,\n",
              "             32,  6745,  1444,   930,   329,  1243, 29587,    11,   198,  1890,\n",
              "          20822,  1865, 24519,   930,   287,  9082,   276,   673,   268,    13,\n",
              "            198,   198,    32, 37735,  3848,   930,   284, 11858,   290,  1450,\n",
              "             11,   198,  5189,  9976,  1674, 15898,   930,   287,  8604,   757,\n",
              "             26,   198,   818, 18680, 12098,   930,   262,   267,  3653,  7363,\n",
              "             11,   198,  5189, 10030, 45100,   930,   287, 45705]]),\n",
              " tensor([[24091,    13,   198,   198,    32, 17514,   318,  4376,   930,   287,\n",
              "          19758,   447,   247,    82,  1021,    11,   198,  2514,  1624,   465,\n",
              "            826,   930,  1973,   262,  1956,    26,   198,   818, 48762,   447,\n",
              "            247,    82, 24350,   930,   262,  9292, 26951,    11,   198, 14574,\n",
              "          13476, 37492,   930,   287,  3344, 24368,    13,   198,   198,  1537,\n",
              "           5053, 37180,   930,   351, 17435,   286,  4020,    11,   198,  1890,\n",
              "            883,   508,  2121,   930,   416, 10030,   447,   247,    82,  4692,\n",
              "          14528,    26,   198,  9360, 24350,   389,  3223,    11,   930,   607,\n",
              "          19262,   286,  9970,    11,   198,  8496, 10574, 23787,   930,   389,\n",
              "           1364,  3436,    13,   198,   198,    32,  5509,  6296,  7331,   930,\n",
              "            351, 11135, 11982,    11,   198,   818,  9260,   810,  6156,   930,\n",
              "          37806,  2128,    26,   198,    56,  1130,  7109,   292,   346,   447,\n",
              "            247,    82, 21755,   930,  1745, 11621, 29587,    11]]),\n",
              " tensor([[  198, 20459, 13737, 45694,   930,   287,  3491, 18250,   673,   268,\n",
              "             13,   198,   198,   464,   399, 19942,  7906, 14390,   930,   422,\n",
              "            640,   447,   247,    82,   898,  6146,   259,    11,   198,  1135,\n",
              "           2703,  1204,   447,   247,    82, 16270,   930,   286,  8716,   290,\n",
              "           2356,    26,   198,  4863, 49147,   447,   247,    82,  3960,   930,\n",
              "            284, 16491,   447,   247,    82,  3496,    11,   198,   818,   277,\n",
              "            515,  3951,   930,  1111,  4939,   290,  1913,    13,   198,   198,\n",
              "           1870, 31771, 16546,   930,   287,  9082,   276, 24350,    11,   198,\n",
              "           6653, 20263,  4692,    11,   930,   465,  7363,   588,  5636,  5691,\n",
              "             26,   198,  1544,   356,  3080,   465,  6908,  1924,   930,   351,\n",
              "           1337,    11,   198,  5005,   344,   270,   290, 26485,   930,   287,\n",
              "           3313,  3464,  3013,   533,    13,   198,   198,    50,   293,   541,\n",
              "          32986,  4539,   930,   351,  8169,  5241,   286,  3624]]),\n",
              " tensor([[   11,   198, 15046,  1956,   290,  6766,    11,   930,  1613,   640,\n",
              "            290, 10030,    26,   198,    46, 25194, 17445,   930,   284,   337,\n",
              "          13057,   447,   247,    82,   880,    11,   198,  8496,  6156, 10150,\n",
              "            930, 13141,  1560,    13,   198,   198,    32,  4144,   339,  2753,\n",
              "             11,   930,   257,  2756,   339, 13831,    11,   198,  6653, 11501,\n",
              "          13676,    11,   930,   465,  6504, 11298,    26,   198, 11486, 26096,\n",
              "           2222,   930,   407,  4167,    11,   475, 15157,    11,   198,  5189,\n",
              "          27810, 16866,   930,   290, 13532,  2910,    12,   445,    13,   198,\n",
              "            198,    33,  1940,   333, 32481,   930,   287, 41008,   447,   247,\n",
              "             82,  1657,    11,   198, 11486, 27666,  1674, 44040,   930, 37180,\n",
              "            465,  6504,    26,   198,    32, 18619,   286,  4020,   293, 44579,\n",
              "            930,  2236,  6129,    11,   198,  1870,  2222,   262, 37063,   301,\n",
              "            930,  1877,   284,  4656,    13,   198,   198,  6653]]),\n",
              " tensor([[ 2802,   356, 25386,   930,   416,   376,   641,   282,   343,    11,\n",
              "            198,  9360, 24140,  5909,    11,   930,   607, 33404,  1598,    26,\n",
              "            198,   464,   995,  2236,   308, 30227,   930,   329, 17048,   333,\n",
              "            447,   247,    82,  2121,    11,   198,  1890, 16187,  4485,   930,\n",
              "           3675,   262,  3355,    13,   198,   198,  6423, 18355, 14088,   930,\n",
              "            290, 14357,  9457,    11,   198,  1722, 18680, 13002,   930,   262,\n",
              "          27636, 29959,    26,   198,  3152,   337,    73, 10875,   343,  1029,\n",
              "            930,   339,   895,  2737,   465, 20822,    11,   198, 39276,   262,\n",
              "           6388,   930,   645, 11854, 13676,    13,   198,   198,   464,  7215,\n",
              "          19977, 30177,   930,  7363,  2174,    11,   198,   818,  9151,   447,\n",
              "            247,    82, 21593,   930,   810,  4692, 13520,  6611,    26,   198,\n",
              "           1537,   618,   340, 11240,    82,    11,   930,   262,  9813,  2236,\n",
              "           4485,    11,   198,  1870, 16398,   262,   995,   930]]),\n",
              " tensor([[11061,  3223, 24091,    13,   198,   198,    37,  4364,  6296,  1913,\n",
              "            930,   351,  1885,   293,   445, 12718,    11,   198,  3152,  8429,\n",
              "           8104,   866,   930,   284,  1986,   262,  6388,    26,   198, 11486,\n",
              "           4282,  1203,    11,   930,   339, 11185,   465, 10030,    11,   198,\n",
              "           3886,  4198,  2213,   447,   247,    82,  2046,   930,   465, 27666,\n",
              "          37180,    13,   198,   198,  1870, 35086,  6592, 17445,   930,   351,\n",
              "          24215,  1102, 24117,    11,   198,  9360, 17119, 14800,   930,   287,\n",
              "           8328, 33657,    26,   198,   818,  3344,   447,   247,    82, 16278,\n",
              "            930,   607,  4202,  4602,    11,   198,  3152,  1842,   290, 26206,\n",
              "            930,  1683, 15283,    13,   198,   198,  2215,   679,   320,    67,\n",
              "            439, 20385,   930,   465, 18680, 12718,    11,   198,   464,   886,\n",
              "           2236,  1282,    11,   930,   262,   995, 46576,    26,   198,    33,\n",
              "            361, 23341,   427, 34387,   930,   287, 27810,  6290]]),\n",
              " tensor([[   11,   198,    32, 27223,  7696,   930, 45171,   287,  2356,    13,\n",
              "            198,   198,    32,  4074,  2236, 14936,   930,   422,  5053,   447,\n",
              "            247,    82,  3223, 15191,    11,   198,  3152,  2636,   508,  4485,\n",
              "            930,   284,  1907,  1752,   517,    26,   198,    45,   363,  1652,\n",
              "            283,  3170,   930,   422, 23361,   286,  1450,    11,   198, 20459,\n",
              "          48370,   284,  5698,   930,   416,  1918,   447,   247,    82,  4692,\n",
              "           1021,    13,   198,   198,    50,  3325,   333,   447,   247,    82,\n",
              "           8429,   930, 20246,  6016,   290,  1029,    11,   198,    32, 37019,\n",
              "           4508,   930,  1973,   262,  6766,    26,   198,   818,  2629, 30242,\n",
              "           9096,   930,   465, 16209,   466,  1663,    11,   198,  2514, 34203,\n",
              "            354,   262,  4534,   930,   351, 27810, 19634,    13,   198,   198,\n",
              "            464, 23214,   481, 15505,   930,   262,  4252,   290,  8824,    11,\n",
              "            198,    51,   359, 27961,  2187,   930,   416, 44261]]),\n",
              " tensor([[35930,    26,   198,   464,  5788,  2236, 22100,   930,   422,  9538,\n",
              "            447,   247,    82, 29500,    11,   198,  1722,  1755, 37225,   930,\n",
              "            477,  1657,   290,  1363,    13,   198,   198,  6423, 38965,   283,\n",
              "           6296,   930,   416, 39394,   447,   247,    82,   285,   707,    11,\n",
              "            198,  3152,  6953, 17292,   930,   290, 10574, 25030,    26,   198,\n",
              "            464, 17481,  2236,  2121,   930,   416,  5770,   306,  1244,    11,\n",
              "            198,   818, 30657,  4752,   930,   319,   277,   515,  1755,    13,\n",
              "            198,   198,    53,  3692,   312,   447,   247,    82,  8631,   930,\n",
              "            351, 26750,  1937,   675,    11,   198,  1722, 11858,   290, 20178,\n",
              "            930,  1986,   511, 27666,    26,   198, 21659,  2236, 18746,   930,\n",
              "            262, 13626,  2323,    11,   198,  1870, 18355,   447,   247,    82,\n",
              "          34532,   930,   262,   691,  2128,    13,   198,   198,   818,  9550,\n",
              "           4692,    11,   930,   262,   995,  2236,  6486,    11]]),\n",
              " tensor([[  198,    33,  1734,   776,   257, 32296,   930,   286,   355,   831,\n",
              "           6766,    26,   198, 11486,   422,   262,  3223,   930,   257,  7500,\n",
              "            448,  2236,  4485,    11,   198,  3791,  1204,   284, 12589,   930,\n",
              "            262,  3329, 24091,    13,   198,   198, 15046,  9337,  5909,    11,\n",
              "            930,   262,   995,  5860,    11,   198,  1722,  2046, 41381,   930,\n",
              "            290,  3491,  2971, 20246,    26,   198,  7571, 49008,  2513,   930,\n",
              "            422,  7104,  7128,   303,    11,   198, 15046,   390, 21768,  8701,\n",
              "            930,   290,  7032,   484,   686,   303,    13,   198,   198,    32,\n",
              "          17577, 44951,    11,   930,   351,  4252, 46576,    11,   198,    32,\n",
              "           1956, 15032,   930,   422, 10181, 12445,    26,   198, 43445,  2236,\n",
              "          29955,   930,   810,  1175,  1752, 49000,    11,   198,  1870,  1751,\n",
              "           9280,   930,   810, 11858,  7953,    13,   198,   198, 10915, 19490,\n",
              "            389,  1297,   930,   286, 11858,   290, 39809,    11]]),\n",
              " tensor([[  198,  5189,  6156,  1528,   930,   290, 22122,  1204,    26,   198,\n",
              "          14574,  3891,  3520,   930,   287, 25029, 24044,    11,   198,  8413,\n",
              "            368,  9451,   783,    11,   930,  8097,  3549,    13,   198,   198,\n",
              "           3152, 11954,   286,  7815,   930,   290,  2951,   286, 16506,    11,\n",
              "            198,  1135,  7522,   477,   930,   508, 18631,   262,  1438,    26,\n",
              "            198,  1890,   772, 11858,   930,   287,   640,  1276, 22100,    11,\n",
              "            198,  1537, 24901,  2107,   930,   287, 35423,   484,   925,    13,\n",
              "            198,   198,  6423,  9550,  8953,   930,   355,  2456,   466, 13468,\n",
              "             11,   198,  1870,   575,  1130,  7109,   292,   346,   264,  1322,\n",
              "            930,   287, 10296,  4167,    26,   198,   464, 32326,  1663,   991,\n",
              "             11,   930,   262,   277,   689,  7379,   521,    11,   198,  1870,\n",
              "            477,  2236,  1334,   930, 10597,  5788, 10548,    13,   198,   198,\n",
              "          12915,   870,  3496,   930,   286,   640,   290,  1918]]),\n",
              " tensor([[   11,   198,   818,   790,  8033,   930,   290,  9082,   276,  6795,\n",
              "             26,   198,  1890,  9337,  1282,    11,   930,   262,  7825,  2236,\n",
              "           1210,    11,   198,   818,  2046,   290, 21682,   930,   262,   995,\n",
              "           2236,  4245,    13,   198,   198,  1870,   422,   262, 29914,    11,\n",
              "            930,  1204,  2236,  1064,   198,    32,  3108, 46576,    11,   930,\n",
              "            416, 10030,  5447,    26,   198,  1722,  8824,   290,  4252,   930,\n",
              "           2236,  4485,   757,    11,   198,  2514,  1317,   262, 19490,   930,\n",
              "            286, 11858,   290,  1450,    13,   198,   198,   818, 24350,   286,\n",
              "           7815,   930,   290, 33932,    82,  2769,    11,   198,  8496, 16187,\n",
              "          25661,   930,   290, 13141,  3993,    11,   198,   464, 40158,   991,\n",
              "            284,   346,   930,   351,  5032, 47872,    11,   198,  1890,  2667,\n",
              "          19294,   930,   286,  6953,   290,  3869,    13,   198,   198,    33,\n",
              "           1734,   776,   262, 18639,   930,   287,  2046,   447]]),\n",
              " tensor([[  247,    82,  1657,    11,   198,  2990, 15554,  7771,   930,   287,\n",
              "          13079,  1755,    26,   198,    49,   654,   286,  1176,    11,   930,\n",
              "            290,  8328,  6016,    11,   198, 41818,  7786,   930,   329, 11858,\n",
              "            447,   247,   898,  1244,    13,   198,   198,   464,   569,  9101,\n",
              "           6780,    64,  7224,   930,   832,   285,  1023,   290,  1569,  4487,\n",
              "             11,   198,   818, 32326,   673,  9743,   930,   262,  7104, 19490,\n",
              "             26,   198,   464,  3992,   286,   266,  2417,    67,   930,   673,\n",
              "            356,  3080,   290,  8470,    11,   198,   818, 41431, 13532,   930,\n",
              "            262,  2003,  7363,    13,   198,   198,  5189,  1243, 29587,    11,\n",
              "            930,   286,   277,   689,   920,    86,  1389,    11,   198,  5189,\n",
              "          11858,   447,   247,  2626, 18967,    11,   930,   290, 49008,  7770,\n",
              "             26,   198,   818, 16187,  3350,   930,   416,  5788,   290,  4252,\n",
              "             11,   198,   464,   277,   515, 27666,   930,  2236]]),\n",
              " tensor([[ 1282, 45171,    13,   198,   198,  3844, 13002,  1715,  2412,   930,\n",
              "            810, 20178, 14046,    11,   198,   818,  4771,  7784, 30923,    11,\n",
              "            930,   832,  6388,   290,  4822,    26,   198,  3152,   337,    73,\n",
              "          10875,   343,  4376,   930,   339,  1067, 17237, 20822,    11,   198,\n",
              "            818, 18355,   447,   247,    82, 34532,   930,   465,  1176,  2523,\n",
              "             13,   198,   198, 13681, 18180,  5202,   930,   422,   449,   313,\n",
              "            403,  9096,    11,   198,   818, 24458,    82,  4692,   930,   422,\n",
              "          25740,   484, 12080,    26,   198,   464,  2910,   286, 20178,    11,\n",
              "            930,  4771,   290,  7815,    11,   198,  2484,   439, 16398,   262,\n",
              "           7032,   930,   810, 14450,   547,   264,   593,    13,   198,   198,\n",
              "            464, 13520,  2236,   703,    75,   930,  1973,   262, 21547,    11,\n",
              "            198,  1722,  7937, 21030,   930,   319,   277,   515,   443,   274,\n",
              "             26,   198,  3152, 19735,  2714,  1029,   930,   290]]),\n",
              " tensor([[21132,   286, 26210,    11,   198, 14574, 36605,  2236,   886,   930,\n",
              "            287,  3344,   447,   247,    82,  7523,    13,   198,   198,  3844,\n",
              "            399,    73,   585,  6296,  4081,   930,   416,  5417,   290, 15191,\n",
              "             11,   198,   464, 15876,   286,  9813,    11,   930,   262, 20218,\n",
              "            395,   447,   247,    82, 34532,    26,   198,   464, 13520, 22389,\n",
              "            930,   465,  6156,  3496,    11,   198,  2514,  5698,   262,  7937,\n",
              "            930,   326, 14936,  1863,    13,   198,   198,  1870,  3661,  9189,\n",
              "          42984,   930,   319,  8598, 36893,    11,   198,  3152,  8465,  9563,\n",
              "            930,   290, 17514,   450,   260,   459,    26,   198,   464,  6729,\n",
              "            607, 24117,    11,   930,   262,  4771,   607, 19262,    11,   198,\n",
              "            464,  4295,    82,   607, 13360,    11,   930,   262,  2344,   607,\n",
              "            898,    13,   198,   198,   818, 35423, 29587,   930,   810, 16187,\n",
              "            711,    11,   198,    43, 18228,  1379, 12978,   930]]),\n",
              " tensor([[  287, 44261, 40606,    26,   198, 49646,   416, 14659,   930,   287,\n",
              "          13079,  1755,    11,   198,  6653, 26206, 28364,   930, 10597,  5788,\n",
              "          44794,    13,   198,   198,    50,   328,  2047,   356, 25386,   930,\n",
              "            416, 31771,   447,   247,    82,  1735,    11,   198,   818, 24140,\n",
              "           5421,   930,   355,  5229,   447,   247,    82, 26619,    26,   198,\n",
              "           3152,  2832,   673, 21132,   930,   422, 33727,   447,   247,    82,\n",
              "          24276,    11,   198, 11486, 10030,  5255,   274,   930,   465,  7195,\n",
              "             13,   198,   198,  2215, 32797,  9101,    74,   930,   287,  2046,\n",
              "            318,  4642,    11,   198,   464,  4534,  2236, 36606,   930,   287,\n",
              "           4020,   290,   285,  1211,    26,   198, 35452,  1299, 49478,    11,\n",
              "            930, 18180,  5894,    11,   198,  1870, 23214,  1614,   454,   930,\n",
              "            262,  5788,   319,  1029,    13,   198,   198,   464, 24091,  2236,\n",
              "           6626,   930,   287, 46153, 31259,    11,   198,  1722]]),\n",
              " tensor([[ 4198,  2213, 15445,    82,   930,   465,  8429,   284,   374,  6201,\n",
              "             26,   198,   818,  2629, 30242,   447,   247,    82,  2046,   930,\n",
              "            262,   995,   447,   247,    82,   886,  7363,    11,   198,  1722,\n",
              "          16209,  1614,   454,   930,   262, 45705, 24091,    13,   198,   198,\n",
              "             37,  4364,  2236,  1302,   930,   351, 12718,   287,  1021,    11,\n",
              "            198, 39276,   262,  2046,   930,   290,  9082,   276,  4097,    26,\n",
              "            198, 11486, 11865,   339, 16523,    11,   930,   290,  1204,  2236,\n",
              "            266,  1531,    11,   198,   818,  1928, 30242,   447,   247,    82,\n",
              "          26485,   930,   465,  4202,   318, 27029,    13,   198,   198,   464,\n",
              "          17481,  2236, 26951,   930,   319, 11858,   290,  1450,    11,   198,\n",
              "           3152,  2910,    12, 44279,   285,   707,   930,   287,   569,  3692,\n",
              "            312,   447,   247,    82,  1278,   268,    26,   198,    37,   268,\n",
              "          29283,   447,   247,    82, 14404,   930,  2236,   760]]),\n",
              " tensor([[  645,  5421,    11,   198,    51,   359,  4534,   318, 12445,   930,\n",
              "            290, 27636, 30859,    13,   198,   198, 11486, 38965,   283, 28364,\n",
              "            930,   287, 10574, 35918,    11,   198,  3152,  6953, 24703,   930,\n",
              "            290,  2612,   286,  2046,    26,   198,  2514, 42596,   262, 13824,\n",
              "            930,   465,  4202,  2236,  4485,    11,   198,  1870, 39394,  2121,\n",
              "            930,   564,   247, 13725,   410,  3540,   913, 24091,    13,   198,\n",
              "            198,   464, 33727, 41331,   930,   422,  9151,  2769,    11,   198,\n",
              "          20459, 30318, 15623,   930,   287, 18180, 14559,    26,   198,    41,\n",
              "            579,  2150,   392,   447,   247,    82,  1244,   930,  2236, 19813,\n",
              "            262,  1956,    11,   198,    51,   359, 11858,   290,  1450,   930,\n",
              "            389,  8977,   290,  6450,    13,   198,   198,  6423, 13002,  2236,\n",
              "           1907,   930,   262, 33727,  5909,    11,   198,   818,  3344, 14800,\n",
              "            930, 10597,  8033,   307,   938,    26,   198,  3152]]),\n",
              " tensor([[  337,    73, 10875,   343,   447,   247,    82,  6611,   930,   262,\n",
              "          13824,  2236,  2121,    11,   198, 11486, 13002,  2241,   930,  2236,\n",
              "          42531,    11,   477,    13,   198,   198,   464,  4252,  4962,  2042,\n",
              "             11,   930,   262,  5788,  2236, 22100,    11,   198,  1722,  1755,\n",
              "          37225,   930,   262,  1657,  9066,    26,   198,   464,  4534, 38614,\n",
              "           1877,    11,   930,   262, 21547,  4485,  1029,    11,   198,   818,\n",
              "          11854,  2769,   930,   477,  8109,  6486,    13,   198,   198,  4863,\n",
              "            399,   361,    75,  9096,   447,   247,    82,  8946,   930,   262,\n",
              "           2636,  2236, 12797,    11,   198,  2514,  9960,   287,  9803,   930,\n",
              "            319,  9082,   276, 15191,    26,   198,    39, 10304,   447,   247,\n",
              "             82, 43940,    11,   930,   351,  2951,   523,  4692,    11,   198,\n",
              "            818,  6953, 14659,   930,   511, 10030,  1674, 44040,    13,   198,\n",
              "            198,   464,   402,    73,   439,   283, 25311,   930]]),\n",
              " tensor([[ 5238,   530,   938,   869,    11,   198,  1722, 11858,   290,  1450,\n",
              "            930,   878,   340,  2121,    26,   198,   464, 11621,  2236,   886,\n",
              "             11,   930,  1865,  9550, 14768,    11,   198, 18273,   649, 17577,\n",
              "            930, 45815,   262,  1528,    13,   198,   198,  4863, 12530,   290,\n",
              "          16866,    11,   930,  1204, 44951,    11,   198,    32,   995, 46576,\n",
              "            930,   287,  3329,   390,    86,    26,   198,  7571,  2236,  2513,\n",
              "            930,   262,  7032,  1752,   517,    11,   198,  1722, 11858,   290,\n",
              "          20178,   930,   389,  1775,   645,   517,    13,   198,   198, 23792,\n",
              "            262, 23245,   930,   262,   304, 37803, 48701,    11,   198,  3633,\n",
              "           7150,  1663,  4077,   930,   355,   484,   750,   878,    26,   198,\n",
              "            464, 18180,  5202,    11,   930,   262, 24091,   389,  1598,    11,\n",
              "            198,   818,  8604, 36519,   930,   416,  1918,   393,  3252,    13,\n",
              "            198,   198,   464, 11989,   286,  1450,   930,  2236]]),\n",
              " tensor([[ 4485,   757,    11,   198,  1870, 19490,  2236,  1560,   930,   286,\n",
              "           1244,   290,  2356,    26,   198,  5189, 10181,  1839,   930,   290,\n",
              "            277,   689, 19874,    11,   198,   818, 11501,  8618,   930,   290,\n",
              "           4167,  5447,    13,   198,   198, 15046,  9337,  5909,   930,   262,\n",
              "           5509,  2236,  1663,    11,   198,  3152, 11135,   287,  4534,   930,\n",
              "            290,   275,   619,    82,  2174,    26,   198,   818,   575,  1130,\n",
              "           7109,   292,   346,   447,   247,    82,  2612,   930,   262, 13141,\n",
              "           6486,    11,   198,  5189, 11621, 16434,   930,   564,   247, 13725,\n",
              "           1280,  6766,    13,   198,   198,  1870,   991,   287,  3496,   930,\n",
              "            262,  3923,  2107,    11,   198,  5189, 11858,   508,  1718,   930,\n",
              "            290, 11858,   508,  1577,    26,   198,   818,   790,  2612,   930,\n",
              "            262, 19490,  3520,    11,   198,  5189,  7522,    11,  2994,    11,\n",
              "            930,   290,  1842,   447,   247,    82,  6029,  2356]])]"
            ]
          },
          "metadata": {},
          "execution_count": 31
        }
      ]
    },
    {
      "cell_type": "markdown",
      "source": [
        "We can package our data nicely using the `Dataset` module from Pytorch"
      ],
      "metadata": {
        "id": "tKMyxM1CkBCu"
      }
    },
    {
      "cell_type": "code",
      "source": [
        "import torch\n",
        "from torch.utils.data import Dataset, DataLoader\n",
        "\n",
        "class TextDataset(Dataset):\n",
        "    def __init__(self):\n",
        "        self.examples = []\n",
        "        for i in range(0, tokenized_text.size(1) - block_size + 1, block_size):\n",
        "            self.examples.append(tokenized_text[:, i:i + block_size])\n",
        "\n",
        "    def __len__(self):\n",
        "        return len(self.examples)\n",
        "\n",
        "    def __getitem__(self, idx):\n",
        "        return self.examples[idx].squeeze()\n",
        "\n",
        "\n",
        "dataset = TextDataset()\n",
        "dataloader = DataLoader(dataset, shuffle=True)"
      ],
      "metadata": {
        "id": "RVHcnBK7kFmG"
      },
      "execution_count": null,
      "outputs": []
    },
    {
      "cell_type": "markdown",
      "source": [
        "# How can we finetune our model?"
      ],
      "metadata": {
        "id": "oCut6Tgfmt51"
      }
    },
    {
      "cell_type": "code",
      "source": [
        "# define an optimizer\n",
        "from transformers import AdamW\n",
        "optimizer = AdamW(model.parameters(), lr=3e-5)"
      ],
      "metadata": {
        "colab": {
          "base_uri": "https://localhost:8080/"
        },
        "id": "j27Gl4NE98E2",
        "outputId": "16d2d595-5c21-42e0-abe4-8e5a5dbc2bcc"
      },
      "execution_count": null,
      "outputs": [
        {
          "output_type": "stream",
          "name": "stderr",
          "text": [
            "/usr/local/lib/python3.10/dist-packages/transformers/optimization.py:591: FutureWarning: This implementation of AdamW is deprecated and will be removed in a future version. Use the PyTorch implementation torch.optim.AdamW instead, or set `no_deprecation_warning=True` to disable this warning\n",
            "  warnings.warn(\n"
          ]
        }
      ]
    },
    {
      "cell_type": "code",
      "source": [
        "# Fine-tuning loop\n",
        "epochs = 3\n",
        "model.train()\n",
        "for epoch in range(epochs):\n",
        "    print(f\"Epoch {epoch + 1}/{epochs}\")\n",
        "    for step, batch in enumerate(dataloader):\n",
        "        batch = batch\n",
        "        outputs = model(batch, labels=batch)\n",
        "        loss = outputs.loss\n",
        "        loss.backward()\n",
        "        optimizer.step()\n",
        "        optimizer.zero_grad()\n",
        "\n",
        "        if step % 100 == 0:\n",
        "            print(f\"Step {step}, Loss: {loss.item():.4f}\")\n"
      ],
      "metadata": {
        "colab": {
          "base_uri": "https://localhost:8080/"
        },
        "id": "x3-RYkvt-Aj3",
        "outputId": "10b33a82-bcc9-4e51-ef80-3bd0843e45f9"
      },
      "execution_count": null,
      "outputs": [
        {
          "output_type": "stream",
          "name": "stdout",
          "text": [
            "Epoch 1/3\n",
            "Step 0, Loss: 5.5227\n",
            "Epoch 2/3\n",
            "Step 0, Loss: 4.1066\n",
            "Epoch 3/3\n",
            "Step 0, Loss: 3.1474\n"
          ]
        }
      ]
    },
    {
      "cell_type": "code",
      "source": [
        "# Generate our new text\n",
        "def generate_text(prompt, max_length=500):\n",
        "    model.eval()\n",
        "    inputs = tokenizer(prompt, return_tensors=\"pt\")\n",
        "    with torch.no_grad():\n",
        "        outputs = model.generate(inputs[\"input_ids\"], max_length=max_length, temperature=0.7, do_sample=True)\n",
        "    return tokenizer.decode(outputs[0], skip_special_tokens=True)\n",
        "\n",
        "# Generate text with a prompt\n",
        "prompt = \"Alf and Yngvi, | Eikinskjaldi\"\n",
        "print(\"Generated text:\", generate_text(prompt))"
      ],
      "metadata": {
        "colab": {
          "base_uri": "https://localhost:8080/"
        },
        "id": "j3FlZ_Yc-KJb",
        "outputId": "163a2bf8-a5b8-40a9-dd25-a90e27b83b27"
      },
      "execution_count": null,
      "outputs": [
        {
          "output_type": "stream",
          "name": "stderr",
          "text": [
            "The attention mask and the pad token id were not set. As a consequence, you may observe unexpected behavior. Please pass your input's `attention_mask` to obtain reliable results.\n",
            "Setting `pad_token_id` to `eos_token_id`:50256 for open-end generation.\n"
          ]
        },
        {
          "output_type": "stream",
          "name": "stdout",
          "text": [
            "Generated text: Alf and Yngvi, | Eikinskjaldi, | and Fjord and Skjaldi.\n",
            "\n",
            "The earth is well, | the men well with frost and darkness, | and the rivers well green.\n",
            "\n",
            "Beneath the mountains high | the gods see | and Thor sees | all things well.\n",
            "\n",
            "In Asgard | Loki, | Helvig, the serpent, the sea monster, | Loki's son, | and the moon | Loki's sister.\n",
            "\n",
            "As Thor battles the god | with swords and spears, | and the giants fight | the gods with gold and stone, | and the seas | with fire and ice.\n",
            "\n",
            "The sons | of the gods, | their race and age are well, | and the daughters | their race and age are well, | and the sons | of earth and fire are well,\n",
            "And Thor battles in high | the mighty gods, | and Loki battles his brother, | and the giants fight their brother, | and the rivers | with fire and ice.\n",
            "\n",
            "In Niflheim | Thor fights in high | the mighty gods, | and Loki battles his brother, | and the giants fight their brother, | and the seas | with fire and ice.\n",
            "\n",
            "In the Old City | where Loki lies, | and Asgard stands | where Thor lies, | the gods and men are well, | and the skies | with fire and ice.\n",
            "\n",
            "As the moon rises | the gods come down, | and Odin stands | high above the sky, | and the stars | with morning and night, | and Fjord stands | low below the earth, | and Skjord stands | low below the sky, | and Odin stands | low below the sky,\n",
            "\n",
            "Then Thor battles | the giants | the gods and men of Niflheim, | and Odin battles | his brother, | and the stars | with morning and night, | and Fjord stands | low below the earth, | and Skjord stands | low below the sky,\n",
            "\n",
            "Then the sun rises | the gods rise | and Odin stands | high above the sky, | and the giants | rise | | and the stars | rise | | and Fjord stands | low below the earth,\n",
            "\n",
            "Then the earth | the gods come down | and Odin stands | high above the sky, | and the giants | rise | | and Fjord stands\n"
          ]
        }
      ]
    },
    {
      "cell_type": "code",
      "source": [
        "for each in range(0, 1000, 128):\n",
        "  print(each)\n",
        "\n",
        "  # samadder@kth.se"
      ],
      "metadata": {
        "colab": {
          "base_uri": "https://localhost:8080/"
        },
        "id": "NoWo2waFcqhd",
        "outputId": "9618d11b-0210-44c9-8923-e0201a17a55e"
      },
      "execution_count": null,
      "outputs": [
        {
          "output_type": "stream",
          "name": "stdout",
          "text": [
            "0\n",
            "128\n",
            "256\n",
            "384\n",
            "512\n",
            "640\n",
            "768\n",
            "896\n"
          ]
        }
      ]
    }
  ]
}