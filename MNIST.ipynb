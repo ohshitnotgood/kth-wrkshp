{
  "nbformat": 4,
  "nbformat_minor": 0,
  "metadata": {
    "colab": {
      "provenance": []
    },
    "kernelspec": {
      "name": "python3",
      "display_name": "Python 3"
    },
    "language_info": {
      "name": "python"
    }
  },
  "cells": [
    {
      "cell_type": "code",
      "source": [
        "from torchvision import datasets, transforms\n",
        "from torch.utils.data import DataLoader\n",
        "\n",
        "transform = transforms.Compose([\n",
        "    transforms.ToTensor(),\n",
        "    transforms.Normalize((0.5,), (0.5,))  # Normalize to [-1, 1]\n",
        "])\n",
        "\n",
        "batch_size = 12\n",
        "\n",
        "train_dataset = datasets.MNIST(root='./data', train=True, transform=transform, download=True)\n",
        "test_dataset = datasets.MNIST(root='./data', train=False, transform=transform, download=True)\n",
        "\n",
        "train_loader = DataLoader(dataset=train_dataset, batch_size=batch_size, shuffle=True)\n",
        "test_loader = DataLoader(dataset=test_dataset, batch_size=batch_size, shuffle=False)\n"
      ],
      "metadata": {
        "id": "acvooFvAAoez"
      },
      "execution_count": null,
      "outputs": []
    },
    {
      "cell_type": "code",
      "source": [
        "len(train_loader) + len(test_loader) * 64"
      ],
      "metadata": {
        "id": "aFg64f4bIxYv"
      },
      "execution_count": null,
      "outputs": []
    },
    {
      "cell_type": "code",
      "source": [
        "for each in train_loader:\n",
        "  print(each)"
      ],
      "metadata": {
        "id": "MybFjtZnKXF_"
      },
      "execution_count": null,
      "outputs": []
    },
    {
      "cell_type": "code",
      "execution_count": null,
      "metadata": {
        "id": "LTI14g4G93Sy"
      },
      "outputs": [],
      "source": [
        "import torch\n",
        "\n",
        "# We first define our model as a Python class and extend it with torch.nn.module\n",
        "\n",
        "\n",
        "class MNISTModel(torch.nn.Module):\n",
        "  def __init__(self):\n",
        "    pass\n",
        "\n",
        "\n",
        "  def forward(self):\n",
        "    pass"
      ]
    },
    {
      "cell_type": "code",
      "source": [
        "class MNISTModel(torch.nn.Module):\n",
        "  def __init__(self):\n",
        "    # First layer\n",
        "    self.first_layer = torch.nn.Linear(28*28, 128)\n",
        "\n",
        "    # Second layer\n",
        "    self.second_layer = torch.nn.Linear(128, 64)\n",
        "\n",
        "    # Third layer\n",
        "    self.third_layer = torch.nn.Linear(64, 32)\n",
        "\n",
        "    self.fourth_layer = torch.nn.Linear(32, 10)\n",
        "    # Activation function\n",
        "    self.activation_function = torch.nn.ReLU()"
      ],
      "metadata": {
        "id": "B78xuwWO-8fC"
      },
      "execution_count": null,
      "outputs": []
    },
    {
      "cell_type": "code",
      "source": [
        "# Then we write the forward\n",
        "\n",
        "class MNISTModel(torch.nn.Module):\n",
        "  def __init__(self):\n",
        "    super(MNISTModel, self).__init__()\n",
        "    # First layer\n",
        "    self.first_layer = torch.nn.Linear(28*28, 128)\n",
        "\n",
        "    # Second layer\n",
        "    self.second_layer = torch.nn.Linear(128, 64)\n",
        "\n",
        "    # Third layer\n",
        "    self.third_layer = torch.nn.Linear(64, 10)\n",
        "\n",
        "    # Activation function\n",
        "    self.activation_function = torch.nn.ReLU()\n",
        "\n",
        "\n",
        "  def forward(self, x):\n",
        "    x = x.view(-1, 28*28)\n",
        "    x = self.activation_function(self.first_layer(x))\n",
        "    x = self.activation_function(self.second_layer(x))\n",
        "    x = self.activation_function(self.third_layer(x))\n",
        "    x = self.fourth_layer(x)\n",
        "    return x"
      ],
      "metadata": {
        "id": "utdZfaF4_1F9"
      },
      "execution_count": null,
      "outputs": []
    },
    {
      "cell_type": "code",
      "source": [
        "model = MNISTModel()\n",
        "loss_fn = torch.nn.CrossEntropyLoss()\n",
        "optimizer = torch.optim.Adam(model.parameters(), lr=0.001)\n",
        "num_epochs = 5\n",
        "\n",
        "# Training loop\n",
        "for epoch in range(num_epochs):\n",
        "    model.train()\n",
        "    running_loss = 0.0\n",
        "    for batch_idx, (data, targets) in enumerate(train_loader):\n",
        "\n",
        "        # Forward pass\n",
        "        outputs = model(data)\n",
        "        loss = loss_fn(outputs, targets)\n",
        "\n",
        "        # Backward pass and optimization\n",
        "        optimizer.zero_grad()\n",
        "        loss.backward()\n",
        "        optimizer.step()\n",
        "\n",
        "        running_loss += loss.item()\n",
        "\n",
        "        if batch_idx % 100 == 0:\n",
        "            print(f'Epoch [{epoch+1}/{num_epochs}], Step [{batch_idx}/{len(train_loader)}], Loss: {loss.item():.4f}')\n",
        "\n",
        "    print(f'Epoch [{epoch+1}/{num_epochs}], Average Loss: {running_loss / len(train_loader):.4f}')\n"
      ],
      "metadata": {
        "colab": {
          "base_uri": "https://localhost:8080/"
        },
        "id": "fHRUSQ8XARmf",
        "outputId": "14931224-d84d-441b-f89c-85a3c77d289f"
      },
      "execution_count": null,
      "outputs": [
        {
          "output_type": "stream",
          "name": "stdout",
          "text": [
            "Epoch [1/5], Step [0/938], Loss: 2.3036\n",
            "Epoch [1/5], Step [100/938], Loss: 0.6224\n",
            "Epoch [1/5], Step [200/938], Loss: 0.5134\n",
            "Epoch [1/5], Step [300/938], Loss: 0.3314\n",
            "Epoch [1/5], Step [400/938], Loss: 0.2024\n",
            "Epoch [1/5], Step [500/938], Loss: 0.2174\n",
            "Epoch [1/5], Step [600/938], Loss: 0.5180\n",
            "Epoch [1/5], Step [700/938], Loss: 0.2825\n",
            "Epoch [1/5], Step [800/938], Loss: 0.1569\n",
            "Epoch [1/5], Step [900/938], Loss: 0.1930\n",
            "Epoch [1/5], Average Loss: 0.4019\n",
            "Epoch [2/5], Step [0/938], Loss: 0.2790\n",
            "Epoch [2/5], Step [100/938], Loss: 0.2154\n",
            "Epoch [2/5], Step [200/938], Loss: 0.0595\n",
            "Epoch [2/5], Step [300/938], Loss: 0.1370\n",
            "Epoch [2/5], Step [400/938], Loss: 0.1311\n",
            "Epoch [2/5], Step [500/938], Loss: 0.0744\n",
            "Epoch [2/5], Step [600/938], Loss: 0.1975\n",
            "Epoch [2/5], Step [700/938], Loss: 0.2803\n",
            "Epoch [2/5], Step [800/938], Loss: 0.2113\n",
            "Epoch [2/5], Step [900/938], Loss: 0.0753\n",
            "Epoch [2/5], Average Loss: 0.1908\n",
            "Epoch [3/5], Step [0/938], Loss: 0.0861\n",
            "Epoch [3/5], Step [100/938], Loss: 0.1279\n",
            "Epoch [3/5], Step [200/938], Loss: 0.0539\n",
            "Epoch [3/5], Step [300/938], Loss: 0.1249\n",
            "Epoch [3/5], Step [400/938], Loss: 0.1700\n",
            "Epoch [3/5], Step [500/938], Loss: 0.1344\n",
            "Epoch [3/5], Step [600/938], Loss: 0.1705\n",
            "Epoch [3/5], Step [700/938], Loss: 0.2097\n",
            "Epoch [3/5], Step [800/938], Loss: 0.1339\n",
            "Epoch [3/5], Step [900/938], Loss: 0.2855\n",
            "Epoch [3/5], Average Loss: 0.1375\n",
            "Epoch [4/5], Step [0/938], Loss: 0.1268\n",
            "Epoch [4/5], Step [100/938], Loss: 0.1936\n",
            "Epoch [4/5], Step [200/938], Loss: 0.0340\n",
            "Epoch [4/5], Step [300/938], Loss: 0.0491\n",
            "Epoch [4/5], Step [400/938], Loss: 0.3015\n",
            "Epoch [4/5], Step [500/938], Loss: 0.0939\n",
            "Epoch [4/5], Step [600/938], Loss: 0.1993\n",
            "Epoch [4/5], Step [700/938], Loss: 0.2047\n",
            "Epoch [4/5], Step [800/938], Loss: 0.2432\n",
            "Epoch [4/5], Step [900/938], Loss: 0.0581\n",
            "Epoch [4/5], Average Loss: 0.1091\n",
            "Epoch [5/5], Step [0/938], Loss: 0.0469\n",
            "Epoch [5/5], Step [100/938], Loss: 0.0881\n",
            "Epoch [5/5], Step [200/938], Loss: 0.0426\n",
            "Epoch [5/5], Step [300/938], Loss: 0.1064\n",
            "Epoch [5/5], Step [400/938], Loss: 0.0578\n",
            "Epoch [5/5], Step [500/938], Loss: 0.0713\n",
            "Epoch [5/5], Step [600/938], Loss: 0.1939\n",
            "Epoch [5/5], Step [700/938], Loss: 0.2387\n",
            "Epoch [5/5], Step [800/938], Loss: 0.1782\n",
            "Epoch [5/5], Step [900/938], Loss: 0.0737\n",
            "Epoch [5/5], Average Loss: 0.0942\n"
          ]
        }
      ]
    },
    {
      "cell_type": "code",
      "source": [
        "model.eval()\n",
        "correct = 0\n",
        "total = 0\n",
        "with torch.no_grad():\n",
        "    for data, targets in test_loader:\n",
        "        outputs = model(data)\n",
        "        _, predicted = torch.max(outputs.data, 1)\n",
        "        total += targets.size(0)\n",
        "        correct += (predicted == targets).sum().item()\n",
        "\n",
        "print(f'Accuracy of the model on the 10,000 test images: {100 * correct / total:.2f}%')"
      ],
      "metadata": {
        "colab": {
          "base_uri": "https://localhost:8080/"
        },
        "id": "-BDfv1XbCDnW",
        "outputId": "4b7112e2-f83a-4910-c769-84618d343055"
      },
      "execution_count": null,
      "outputs": [
        {
          "output_type": "stream",
          "name": "stdout",
          "text": [
            "Accuracy of the model on the 10,000 test images: 96.78%\n"
          ]
        }
      ]
    },
    {
      "cell_type": "code",
      "source": [
        "a = torch.rand(10, 5)\n",
        "print(a)\n",
        "\n",
        "a = a.view(-1, 10 * 5)\n",
        "a"
      ],
      "metadata": {
        "colab": {
          "base_uri": "https://localhost:8080/"
        },
        "id": "mpw-jSNAM_H7",
        "outputId": "38cb024f-5135-46ed-9377-ad4c695fd1fd"
      },
      "execution_count": null,
      "outputs": [
        {
          "output_type": "stream",
          "name": "stdout",
          "text": [
            "tensor([[0.4064, 0.3312, 0.8419, 0.7802, 0.9119],\n",
            "        [0.3690, 0.2914, 0.3996, 0.5768, 0.7479],\n",
            "        [0.0143, 0.8874, 0.9925, 0.6210, 0.4405],\n",
            "        [0.5767, 0.5619, 0.8360, 0.9591, 0.2719],\n",
            "        [0.4766, 0.5071, 0.5838, 0.0367, 0.3478],\n",
            "        [0.4404, 0.2684, 0.3274, 0.5014, 0.5796],\n",
            "        [0.0068, 0.0408, 0.3626, 0.4348, 0.1615],\n",
            "        [0.7236, 0.6786, 0.3476, 0.2048, 0.0282],\n",
            "        [0.3578, 0.7517, 0.1073, 0.8107, 0.8765],\n",
            "        [0.7310, 0.7558, 0.5232, 0.5516, 0.1495]])\n"
          ]
        },
        {
          "output_type": "execute_result",
          "data": {
            "text/plain": [
              "tensor([[0.4064, 0.3312, 0.8419, 0.7802, 0.9119, 0.3690, 0.2914, 0.3996, 0.5768,\n",
              "         0.7479, 0.0143, 0.8874, 0.9925, 0.6210, 0.4405, 0.5767, 0.5619, 0.8360,\n",
              "         0.9591, 0.2719, 0.4766, 0.5071, 0.5838, 0.0367, 0.3478, 0.4404, 0.2684,\n",
              "         0.3274, 0.5014, 0.5796, 0.0068, 0.0408, 0.3626, 0.4348, 0.1615, 0.7236,\n",
              "         0.6786, 0.3476, 0.2048, 0.0282, 0.3578, 0.7517, 0.1073, 0.8107, 0.8765,\n",
              "         0.7310, 0.7558, 0.5232, 0.5516, 0.1495]])"
            ]
          },
          "metadata": {},
          "execution_count": 28
        }
      ]
    },
    {
      "cell_type": "code",
      "source": [
        "first_data = test_loader.dataset[0]\n",
        "data, target = first_data\n",
        "\n",
        "output = model(data)\n",
        "print(output, target)"
      ],
      "metadata": {
        "colab": {
          "base_uri": "https://localhost:8080/"
        },
        "id": "cCzScMJmS6iJ",
        "outputId": "3c566d17-eaf1-4c48-8a23-55c4208603fb"
      },
      "execution_count": null,
      "outputs": [
        {
          "output_type": "stream",
          "name": "stdout",
          "text": [
            "tensor([[ -2.2572,  -5.8984,   0.5959,   1.1435,  -5.3354,  -8.3261, -18.1191,\n",
            "          11.2509,  -5.3829,   1.9465]], grad_fn=<AddmmBackward0>) 7\n"
          ]
        }
      ]
    }
  ]
}