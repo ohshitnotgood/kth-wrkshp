{
  "nbformat": 4,
  "nbformat_minor": 0,
  "metadata": {
    "colab": {
      "provenance": []
    },
    "kernelspec": {
      "name": "python3",
      "display_name": "Python 3"
    },
    "language_info": {
      "name": "python"
    }
  },
  "cells": [
    {
      "cell_type": "markdown",
      "source": [
        "# Softmax function demo"
      ],
      "metadata": {
        "id": "ojd5uDquyyEt"
      }
    },
    {
      "cell_type": "code",
      "execution_count": null,
      "metadata": {
        "collapsed": true,
        "id": "AcjoNaswysHD"
      },
      "outputs": [],
      "source": [
        "!pip install torch matplotlib numpy"
      ]
    },
    {
      "cell_type": "markdown",
      "source": [
        "## Regular plotting"
      ],
      "metadata": {
        "id": "guxFmRbazD-x"
      }
    },
    {
      "cell_type": "code",
      "source": [
        "import matplotlib.pyplot as plt\n",
        "\n",
        "data = {'red cars':20, 'green cars':15, 'yellow cars':30, 'blue cars':35}\n",
        "labels = list(data.keys())\n",
        "values = list(data.values())"
      ],
      "metadata": {
        "id": "5FuzxhJyy5KO"
      },
      "execution_count": null,
      "outputs": []
    },
    {
      "cell_type": "code",
      "source": [
        "labels, values"
      ],
      "metadata": {
        "id": "2SkRHsb0y8d7"
      },
      "execution_count": null,
      "outputs": []
    },
    {
      "cell_type": "code",
      "source": [
        "fig = plt.figure(figsize = (10, 5))\n",
        "plt.bar(labels, values)\n",
        "plt.show()"
      ],
      "metadata": {
        "colab": {
          "base_uri": "https://localhost:8080/",
          "height": 445
        },
        "id": "oKr_Wbjuy96y",
        "outputId": "e5a34235-5e9a-461b-e205-924b35cd896f"
      },
      "execution_count": null,
      "outputs": [
        {
          "output_type": "display_data",
          "data": {
            "text/plain": [
              "<Figure size 1000x500 with 1 Axes>"
            ],
            "image/png": "[encoded data removed]"
          },
          "metadata": {}
        }
      ]
    },
    {
      "cell_type": "markdown",
      "source": [
        "# Softmaxed plotting"
      ],
      "metadata": {
        "id": "QLYF_uvFzFm-"
      }
    },
    {
      "cell_type": "code",
      "source": [
        "# Softmax plotting\n",
        "\n",
        "import matplotlib.pyplot as plt\n",
        "import torch\n",
        "\n",
        "data = {'red cars':20, 'green cars':15, 'yellow cars':30, 'blue cars':35}\n",
        "labels = list(data.keys())\n",
        "values = list(data.values())"
      ],
      "metadata": {
        "id": "eSC4u7UBzHwC"
      },
      "execution_count": null,
      "outputs": []
    },
    {
      "cell_type": "code",
      "source": [
        "labels, values"
      ],
      "metadata": {
        "id": "SS0EPsR8zcmO"
      },
      "execution_count": null,
      "outputs": []
    },
    {
      "cell_type": "code",
      "source": [
        "values_tensor = torch.tensor(values, dtype=torch.float32)\n",
        "values_tensor"
      ],
      "metadata": {
        "colab": {
          "base_uri": "https://localhost:8080/"
        },
        "id": "mIgQ7KqtzLHM",
        "outputId": "9ce46d13-927c-4c16-ba32-521f5ec4d5d0"
      },
      "execution_count": null,
      "outputs": [
        {
          "output_type": "execute_result",
          "data": {
            "text/plain": [
              "tensor([20., 15., 30., 35.])"
            ]
          },
          "metadata": {},
          "execution_count": 4
        }
      ]
    },
    {
      "cell_type": "code",
      "source": [
        "values_softmax = torch.nn.functional.softmax(values_tensor)"
      ],
      "metadata": {
        "colab": {
          "base_uri": "https://localhost:8080/"
        },
        "id": "fJ6JKlcozNBs",
        "outputId": "4866db06-c760-4154-de7d-248a3dfdbb4a"
      },
      "execution_count": null,
      "outputs": [
        {
          "output_type": "stream",
          "name": "stderr",
          "text": [
            "<ipython-input-5-2d61d6482f74>:1: UserWarning: Implicit dimension choice for softmax has been deprecated. Change the call to include dim=X as an argument.\n",
            "  values_softmax = torch.nn.functional.softmax(values_tensor)\n"
          ]
        }
      ]
    },
    {
      "cell_type": "code",
      "source": [
        "fig = plt.figure(figsize = (10, 5))\n",
        "plt.bar(labels, values_softmax.tolist())\n",
        "plt.show()"
      ],
      "metadata": {
        "colab": {
          "base_uri": "https://localhost:8080/",
          "height": 445
        },
        "id": "RCEcF_U2zOAg",
        "outputId": "f102bd9d-5875-450f-87c5-1a7d99bb70e4"
      },
      "execution_count": null,
      "outputs": [
        {
          "output_type": "display_data",
          "data": {
            "text/plain": [
              "<Figure size 1000x500 with 1 Axes>"
            ],
            "image/png": "[encoded data removed]"
          },
          "metadata": {}
        }
      ]
    }
  ]
}